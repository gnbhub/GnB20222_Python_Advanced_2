{
  "nbformat": 4,
  "nbformat_minor": 0,
  "metadata": {
    "colab": {
      "provenance": [],
      "collapsed_sections": [],
      "authorship_tag": "ABX9TyMwj+L3Qi//wjufi4n5RyQW",
      "include_colab_link": true
    },
    "kernelspec": {
      "name": "python3",
      "display_name": "Python 3"
    },
    "language_info": {
      "name": "python"
    }
  },
  "cells": [
    {
      "cell_type": "markdown",
      "metadata": {
        "id": "view-in-github",
        "colab_type": "text"
      },
      "source": [
        "<a href=\"https://colab.research.google.com/github/gnbhub/GnB20222_Python_Advanced_2/blob/master/songmi_week2.ipynb\" target=\"_parent\"><img src=\"https://colab.research.google.com/assets/colab-badge.svg\" alt=\"Open In Colab\"/></a>"
      ]
    },
    {
      "cell_type": "code",
      "execution_count": null,
      "metadata": {
        "id": "FE8_Zt1AgjgB"
      },
      "outputs": [],
      "source": [
        "# 6 - 3 알파벳 찾기\n",
        "\n",
        "word = input()\n",
        "\n",
        "alp_list = list(map(chr, range(97, 123)))\n",
        "\n",
        "for alp in alp_list:\n",
        "    if alp in word:\n",
        "        spot = word.index(alp)\n",
        "    else:\n",
        "        spot = -1\n",
        "\n",
        "    print(spot, end=' ')"
      ]
    },
    {
      "cell_type": "code",
      "source": [
        "# 6 - 4 문자열 반복\n",
        "\n",
        "count = int(input())\n",
        "case_list = []\n",
        "for i in range(count):\n",
        "    case_list.append(input().split())\n",
        "\n",
        "for case in case_list:\n",
        "    for text in case[1]:\n",
        "        print(text * int(case[0]), end='')\n",
        "    print()"
      ],
      "metadata": {
        "id": "37o21XHXgxjD"
      },
      "execution_count": null,
      "outputs": []
    },
    {
      "cell_type": "code",
      "source": [
        "# 6 - 5 단어 공부\n",
        "input_word = input().upper()    # 대문자로 모두 바꿈\n",
        "alp_dict = {}    # 각 알파벳의 개수 저장할 사전 생성\n",
        "\n",
        "for i in range(len(input_word)):    # 사전 완성\n",
        "    if input_word[i] in alp_dict:\n",
        "        alp_dict[input_word[i]] += 1\n",
        "    else:\n",
        "        alp_dict[input_word[i]] = 1\n",
        "\n",
        "value_list = list(alp_dict.values())    # 가장 큰 value 찾기위해 리스트 생성\n",
        "max_value = max(value_list)\n",
        "\n",
        "if value_list.count(max_value) >= 2:\n",
        "    print('?')\n",
        "else:    # value값으로 key를 찾기위해 사전을 뒤집음\n",
        "    reverse_dict = dict(map(reversed, alp_dict.items()))\n",
        "    print(reverse_dict[max_value])\n",
        "  "
      ],
      "metadata": {
        "id": "AaBAjljDg_7U"
      },
      "execution_count": null,
      "outputs": []
    },
    {
      "cell_type": "code",
      "source": [
        "# 6 - 6 단어의 개수\n",
        "word = input().split(' ')\n",
        "\n",
        "word__ = [x for x in word if x != '']\n",
        "\n",
        "print(len(word__))"
      ],
      "metadata": {
        "id": "pLpW_l5ghdLU"
      },
      "execution_count": null,
      "outputs": []
    },
    {
      "cell_type": "code",
      "source": [
        "# 6 - 7 상수\n",
        "input_number = input().split()\n",
        "\n",
        "for i in range(len(input_number)):\n",
        "    input_number[i] = input_number[i][::-1]\n",
        "\n",
        "print(max(input_number))"
      ],
      "metadata": {
        "id": "JsvDGOd_htUS"
      },
      "execution_count": null,
      "outputs": []
    }
  ]
}