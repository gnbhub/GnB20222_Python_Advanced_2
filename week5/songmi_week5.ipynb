{
  "nbformat": 4,
  "nbformat_minor": 0,
  "metadata": {
    "colab": {
      "provenance": [],
      "authorship_tag": "ABX9TyN3zsL2hPX4zbQeID39Sor5",
      "include_colab_link": true
    },
    "kernelspec": {
      "name": "python3",
      "display_name": "Python 3"
    },
    "language_info": {
      "name": "python"
    }
  },
  "cells": [
    {
      "cell_type": "markdown",
      "metadata": {
        "id": "view-in-github",
        "colab_type": "text"
      },
      "source": [
        "<a href=\"https://colab.research.google.com/github/gnbhub/GnB20222_Python_Advanced_2/blob/master/week5/songmi_week5.ipynb\" target=\"_parent\"><img src=\"https://colab.research.google.com/assets/colab-badge.svg\" alt=\"Open In Colab\"/></a>"
      ]
    },
    {
      "cell_type": "code",
      "execution_count": null,
      "metadata": {
        "id": "qJCDr3JmMnoi"
      },
      "outputs": [],
      "source": [
        "# 7-8 큰 수 A+B\n",
        "\n",
        "a, b = map(int, input().split())\n",
        "\n",
        "print(a + b)"
      ]
    },
    {
      "cell_type": "code",
      "source": [
        "# 8-1 소수 찾기\n",
        "\n",
        "a = int(input())\n",
        "\n",
        "list = list(map(int, input().split()))\n",
        "\n",
        "for number in list:\n",
        "    if number == 1:\n",
        "        a -= 1\n",
        "        continue\n",
        "    elif number == 2:\n",
        "        continue\n",
        "\n",
        "    for i in range(2, number):\n",
        "        if number % i == 0:\n",
        "            a -= 1\n",
        "            break\n",
        "\n",
        "print(a)"
      ],
      "metadata": {
        "id": "BG2tY8FzMy16"
      },
      "execution_count": null,
      "outputs": []
    },
    {
      "cell_type": "code",
      "source": [
        "# 8-2 소수\n",
        "\n",
        "m = int(input())\n",
        "n = int(input())\n",
        "num_list = [x for x in range(m, n + 1)]\n",
        "\n",
        "for index in range(len(num_list)):\n",
        "    now = num_list[index]\n",
        "    if now == 1:\n",
        "        num_list[index] = 0\n",
        "    elif now == 2:\n",
        "        continue\n",
        "    else:\n",
        "        cut = int(now ** 0.5)\n",
        "        for i in range(2, cut + 1):\n",
        "            if now % i == 0:\n",
        "                num_list[index] = 0\n",
        "                break\n",
        "\n",
        "num_list = [x for x in num_list if x != 0]\n",
        "\n",
        "if len(num_list) < 1:\n",
        "    print('-1')\n",
        "else:\n",
        "    print(sum(num_list))\n",
        "    print(min(num_list))"
      ],
      "metadata": {
        "id": "dyWop8zUMy9U"
      },
      "execution_count": null,
      "outputs": []
    },
    {
      "cell_type": "code",
      "source": [
        "# 8-3 소인수분해\n",
        "\n",
        "import math\n",
        "\n",
        "n = int(input())\n",
        "\n",
        "for i in range(1, int(math.sqrt(n))):\n",
        "    i += 1\n",
        "    while n % i == 0:\n",
        "        n = n // i\n",
        "        print(i)\n",
        "\n",
        "if n != 1:\n",
        "    print(n)"
      ],
      "metadata": {
        "id": "RaU1rp8mMzDv"
      },
      "execution_count": null,
      "outputs": []
    },
    {
      "cell_type": "code",
      "source": [
        "# 8-4 소수 구하기\n",
        "\n",
        "import math\n",
        "\n",
        "def is_prime_number(n):\n",
        "    if n == 1:\n",
        "        return False\n",
        "\n",
        "    r = math.isqrt(n)\n",
        "\n",
        "    for i in range(2, r + 1):\n",
        "        if n % i == 0:\n",
        "            return False\n",
        "\n",
        "    return True\n",
        "\n",
        "m, n = map(int, input().split())\n",
        "\n",
        "for number in range(m, n + 1):\n",
        "    if is_prime_number(number):\n",
        "        print(number)"
      ],
      "metadata": {
        "id": "pjuomdEdMzKD"
      },
      "execution_count": null,
      "outputs": []
    }
  ]
}