{
  "nbformat": 4,
  "nbformat_minor": 0,
  "metadata": {
    "colab": {
      "provenance": [],
      "authorship_tag": "ABX9TyPpZEjxBmjVjP0rqfpxwTw4",
      "include_colab_link": true
    },
    "kernelspec": {
      "name": "python3",
      "display_name": "Python 3"
    },
    "language_info": {
      "name": "python"
    }
  },
  "cells": [
    {
      "cell_type": "markdown",
      "metadata": {
        "id": "view-in-github",
        "colab_type": "text"
      },
      "source": [
        "<a href=\"https://colab.research.google.com/github/gnbhub/GnB20222_Python_Advanced_2/blob/master/week5/Bosung.ipynb\" target=\"_parent\"><img src=\"https://colab.research.google.com/assets/colab-badge.svg\" alt=\"Open In Colab\"/></a>"
      ]
    },
    {
      "cell_type": "code",
      "execution_count": null,
      "metadata": {
        "id": "qJAxWEDitAyj"
      },
      "outputs": [],
      "source": [
        "a,b=map(int,input().split())\n",
        "print(a+b)"
      ]
    },
    {
      "cell_type": "code",
      "source": [
        "def primenum(a):\n",
        "    t = True\n",
        "    if a == 1:\n",
        "        return False\n",
        "    for i in range(2, a):\n",
        "        if a%i == 0:\n",
        "            \n",
        "            t = False\n",
        "            return t\n",
        "    return t    \n",
        "\n",
        "n = int(input())\n",
        "cnt = 0\n",
        "lst = list(map(int, input().split()))\n",
        "\n",
        "for i in range(n):\n",
        "    \n",
        "    if primenum(lst[i])==True:\n",
        "        cnt = cnt + 1\n",
        "print(cnt)"
      ],
      "metadata": {
        "id": "U0aR0w_rwom1"
      },
      "execution_count": null,
      "outputs": []
    },
    {
      "cell_type": "code",
      "source": [
        "def primenum(a):\n",
        "    t = True\n",
        "    if a == 1:\n",
        "        return False\n",
        "    for i in range(2, a):\n",
        "        if a%i == 0:\n",
        "            \n",
        "            t = False\n",
        "            return t\n",
        "    return t    \n",
        "\n",
        "min= int(input())\n",
        "max = int(input())\n",
        "least =max\n",
        "total = 0\n",
        "lst = [i for i in range(min, max+1)]\n",
        "\n",
        "for i in range(max-min+1):\n",
        "    \n",
        "    if primenum(lst[i])==True:\n",
        "        if least>lst[i]:\n",
        "            least = lst[i]\n",
        "        total = total + lst[i]\n",
        "if total == 0:\n",
        "    print(-1)\n",
        "else:\n",
        "    print(total)\n",
        "    print(least)\n",
        "\n",
        "\n"
      ],
      "metadata": {
        "id": "fJLlKKqNwqFK"
      },
      "execution_count": null,
      "outputs": []
    },
    {
      "cell_type": "code",
      "source": [
        "n = int(input())\n",
        "\n",
        "i = 2\n",
        "while True:\n",
        "  if n==1: break\n",
        "  if n%i==0:\n",
        "    print(i)\n",
        "    n = n/i\n",
        "  else: i+=1"
      ],
      "metadata": {
        "id": "-cTVroj4y888"
      },
      "execution_count": null,
      "outputs": []
    },
    {
      "cell_type": "code",
      "source": [
        "def prime(n):\n",
        "    cnt=0\n",
        "    for i in range(2,int(n**0.5)+1):\n",
        "        if n%i==0:\n",
        "            cnt+=1\n",
        "\n",
        "    if cnt==0:\n",
        "        return n\n",
        "    else:\n",
        "        return 0\n",
        "\n",
        "n, m=map(int,input().split())\n",
        "\n",
        "\n",
        "for i in range(n,m+1):\n",
        "    if prime(i)!=0:\n",
        "        print(prime(i))\n",
        "\n"
      ],
      "metadata": {
        "id": "t65Sq_mX00ra"
      },
      "execution_count": null,
      "outputs": []
    },
    {
      "cell_type": "code",
      "source": [],
      "metadata": {
        "id": "7X5YHrq1zMHJ"
      },
      "execution_count": null,
      "outputs": []
    }
  ]
}