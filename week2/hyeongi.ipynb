{
  "nbformat": 4,
  "nbformat_minor": 0,
  "metadata": {
    "colab": {
      "provenance": [],
      "authorship_tag": "ABX9TyOL5Zd24qKqJYSKqm7o6lvb",
      "include_colab_link": true
    },
    "kernelspec": {
      "name": "python3",
      "display_name": "Python 3"
    },
    "language_info": {
      "name": "python"
    }
  },
  "cells": [
    {
      "cell_type": "markdown",
      "metadata": {
        "id": "view-in-github",
        "colab_type": "text"
      },
      "source": [
        "<a href=\"https://colab.research.google.com/github/gnbhub/GnB20222_Python_Advanced_2/blob/master/week2/hyeongi.ipynb\" target=\"_parent\"><img src=\"https://colab.research.google.com/assets/colab-badge.svg\" alt=\"Open In Colab\"/></a>"
      ]
    },
    {
      "cell_type": "code",
      "execution_count": 1,
      "metadata": {
        "colab": {
          "base_uri": "https://localhost:8080/"
        },
        "id": "kVaf3B55YThB",
        "outputId": "7db30b59-63a2-4ace-9c6f-b3ae6e60ff8b"
      },
      "outputs": [
        {
          "output_type": "stream",
          "name": "stdout",
          "text": [
            "\n",
            "-1 -1 -1 -1 -1 -1 -1 -1 -1 -1 -1 -1 -1 -1 -1 -1 -1 -1 -1 -1 -1 -1 -1 -1 -1 -1 "
          ]
        }
      ],
      "source": [
        "import string\n",
        "\n",
        "s=list(input())\n",
        "\n",
        "alhpa=list(string.ascii_lowercase)\n",
        "\n",
        "for i in range (len(alhpa)):\n",
        "    cnt=0\n",
        "    for j in range (len(s)):\n",
        "        \n",
        "        if alhpa[i]==s[j]:\n",
        "        \n",
        "            print(j,end=' ')\n",
        "            cnt+=1\n",
        "            break\n",
        "            \n",
        "  \n",
        "        elif s[j] != alhpa[i]:\n",
        "            \n",
        "            cnt+=0\n",
        "\n",
        "    if cnt==0:\n",
        "        print(-1,end=' ')\n"
      ]
    },
    {
      "cell_type": "code",
      "source": [
        "T=input()\n",
        "A=[]\n",
        "for i in range(int(T)):\n",
        "    k=input()\n",
        "\n",
        "    if k.count(' ')>0:\n",
        "        R,S=k.split()\n",
        "\n",
        "\n",
        "\n",
        "        A.append(R)\n",
        "        A.append(S)\n",
        "\n",
        "        \n",
        "for i in range(0,int(T)*2,2):\n",
        "    for j in A[i+1]:\n",
        "        print(j*int(A[i]),end='')\n",
        "    print()\n"
      ],
      "metadata": {
        "id": "hAH0aLL2YWa-"
      },
      "execution_count": null,
      "outputs": []
    },
    {
      "cell_type": "code",
      "source": [
        "N=input()\n",
        "\n",
        "s=N.upper()\n",
        "\n",
        "import string\n",
        "\n",
        "u=list(string.ascii_uppercase)\n",
        "\n",
        "cnt=0\n",
        "cas=[]\n",
        "num=[]\n",
        "for i in u:\n",
        "    cas+=i\n",
        "    num.append(s.count(i))\n",
        "\n",
        "\n",
        "if num.count(max(num))>=2:\n",
        "    print('?')\n",
        "\n",
        "else:\n",
        "    print(cas[num.index(max(num))])\n"
      ],
      "metadata": {
        "id": "Eb92IcJWYYDM"
      },
      "execution_count": null,
      "outputs": []
    },
    {
      "cell_type": "code",
      "source": [
        "a=input()\n",
        "print(len(a.split()))\n"
      ],
      "metadata": {
        "id": "Qgma6PGAYZ5_"
      },
      "execution_count": null,
      "outputs": []
    },
    {
      "cell_type": "code",
      "source": [
        "a,b=input().split()\n",
        "a=list(a)\n",
        "b=list(b)\n",
        "\n",
        "\n",
        "a.reverse()\n",
        "b.reverse()\n",
        "\n",
        "c=int(a[0])*100+int(a[1])*10+int(a[2])*1\n",
        "d=int(b[0])*100+int(b[1])*10+int(b[2])*1\n",
        "\n",
        "if c>d:\n",
        "    print(c)\n",
        "else:\n",
        "    print(d)\n",
        "\n"
      ],
      "metadata": {
        "id": "rjO0-xTzYeId"
      },
      "execution_count": null,
      "outputs": []
    }
  ]
}