{
  "nbformat": 4,
  "nbformat_minor": 0,
  "metadata": {
    "colab": {
      "provenance": [],
      "collapsed_sections": [],
      "authorship_tag": "ABX9TyMDvsO+6oY4CAU3MUmAfQhp",
      "include_colab_link": true
    },
    "kernelspec": {
      "name": "python3",
      "display_name": "Python 3"
    },
    "language_info": {
      "name": "python"
    }
  },
  "cells": [
    {
      "cell_type": "markdown",
      "metadata": {
        "id": "view-in-github",
        "colab_type": "text"
      },
      "source": [
        "<a href=\"https://colab.research.google.com/github/gnbhub/GnB20222_Python_Advanced_2/blob/master/week2/bosung.ipynb\" target=\"_parent\"><img src=\"https://colab.research.google.com/assets/colab-badge.svg\" alt=\"Open In Colab\"/></a>"
      ]
    },
    {
      "cell_type": "code",
      "execution_count": null,
      "metadata": {
        "id": "x6GVIHDqCnlb"
      },
      "outputs": [],
      "source": [
        "#1\n",
        "str = input()\n",
        "a = [-1 for k in range(26)]\n",
        "str = str.upper()\n",
        "ls = list(str)\n",
        "for i in range(len(ls)):\n",
        "    if a[ord(ls[i])-65] != -1:\n",
        "        continue\n",
        "    else:\n",
        "        a[ord(ls[i])-65] = i\n",
        "for i in a:\n",
        "    print(i, end=' ')\n",
        "\n"
      ]
    },
    {
      "cell_type": "code",
      "source": [
        "#2\n",
        "n = int(input())\n",
        "num = list()\n",
        "str = list()\n",
        "for i in range(n):\n",
        "    a, b = input().split(' ')\n",
        "    num.append(int(a))\n",
        "    str.append(b)\n",
        "for i in range(n):\n",
        "    ls = list(str[i])\n",
        "    for k in ls:\n",
        "        for j in range(num[i]):\n",
        "            print(k, end=\"\")\n",
        "    print()\n"
      ],
      "metadata": {
        "id": "4EP-1Wq_Cpwx"
      },
      "execution_count": null,
      "outputs": []
    },
    {
      "cell_type": "code",
      "source": [
        "#3\n",
        "n = int(input())\n",
        "num = list()\n",
        "str = list()\n",
        "for i in range(n):\n",
        "    a, b = input().split(' ')\n",
        "    num.append(int(a))\n",
        "    str.append(b)\n",
        "for i in range(n):\n",
        "    ls = list(str[i])\n",
        "    for k in ls:\n",
        "        for j in range(num[i]):\n",
        "            print(k, end=\"\")\n",
        "    print()\n"
      ],
      "metadata": {
        "id": "bDiGjrt-CsOg"
      },
      "execution_count": null,
      "outputs": []
    },
    {
      "cell_type": "code",
      "source": [
        "#4\n",
        "str = input()\n",
        "a = [0 for k in range(26)]\n",
        "str = str.upper()\n",
        "ls = list(str)\n",
        "\n",
        "for k in ls:\n",
        "    a[ord(k)-65] += 1\n",
        "max = -1\n",
        "key = -1\n",
        "for j in range(26):\n",
        "    if a[j]>max:\n",
        "        key = j\n",
        "        max = a[j]\n",
        "for j in range(26):\n",
        "    if j == key:\n",
        "        continue\n",
        "    if a[j] == max:\n",
        "        ans = \"?\"\n",
        "        break\n",
        "    else:\n",
        "        ans = chr(key+65)\n",
        "print(ans)\n"
      ],
      "metadata": {
        "id": "bIoLBzOWCuPW"
      },
      "execution_count": null,
      "outputs": []
    },
    {
      "cell_type": "code",
      "source": [
        "#5\n",
        "a = input().split()\n",
        "print(len(a))\n"
      ],
      "metadata": {
        "id": "6QHfxBFYCxCM"
      },
      "execution_count": null,
      "outputs": []
    },
    {
      "cell_type": "code",
      "source": [
        "#6\n",
        "a, b = input().split()\n",
        "ls = list(a)\n",
        "ls2 = list(b)\n",
        "if ls[2]>ls2[2]:\n",
        "    print(ls[2],ls[1],ls[0], sep = '')\n",
        "elif ls[2]<ls2[2]:\n",
        "    print(ls2[2], ls2[1], ls2[0], sep = '')\n",
        "else:\n",
        "    if ls[1]>ls2[1]:\n",
        "        print(ls[2],ls[1],ls[0], sep = '')\n",
        "    elif ls[1]<ls2[1]:\n",
        "        print(ls2[2], ls2[1], ls2[0], sep = '')\n",
        "    else:\n",
        "        if ls[0]>ls2[0]:\n",
        "            print(ls[2],ls[1],ls[0], sep = '')\n",
        "        else:\n",
        "            print(ls2[2], ls2[1], ls2[0], sep = '')"
      ],
      "metadata": {
        "id": "MsDz3AGuCzXb"
      },
      "execution_count": null,
      "outputs": []
    }
  ]
}