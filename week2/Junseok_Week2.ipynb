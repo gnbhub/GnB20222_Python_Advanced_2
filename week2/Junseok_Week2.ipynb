{
  "nbformat": 4,
  "nbformat_minor": 0,
  "metadata": {
    "colab": {
      "provenance": [],
      "authorship_tag": "ABX9TyNlfyzbKts1LgovHLGGR+oX",
      "include_colab_link": true
    },
    "kernelspec": {
      "name": "python3",
      "display_name": "Python 3"
    },
    "language_info": {
      "name": "python"
    }
  },
  "cells": [
    {
      "cell_type": "markdown",
      "metadata": {
        "id": "view-in-github",
        "colab_type": "text"
      },
      "source": [
        "<a href=\"https://colab.research.google.com/github/gnbhub/GnB20222_Python_Advanced_2/blob/master/Junseok_Week2.ipynb\" target=\"_parent\"><img src=\"https://colab.research.google.com/assets/colab-badge.svg\" alt=\"Open In Colab\"/></a>"
      ]
    },
    {
      "cell_type": "code",
      "execution_count": null,
      "metadata": {
        "id": "Wg5gyxhMicI6"
      },
      "outputs": [],
      "source": [
        "#알파벳 찾기\n",
        "\n",
        "lst = [-1] * 26\n",
        "usr = input()\n",
        "st = set()\n",
        "\n",
        "num = 0\n",
        "for i in usr:\n",
        "    if i in st:\n",
        "        num += 1\n",
        "        continue\n",
        "    else:\n",
        "        st.add(i)\n",
        "        lst[ord(i)-97] = num\n",
        "        num += 1\n",
        "for i in lst:\n",
        "    print(i, end=' ')\n"
      ]
    },
    {
      "cell_type": "code",
      "source": [
        "#문자열 반복\n",
        "\n",
        "T = int(input())\n",
        "R_lst = []\n",
        "S_lst = []\n",
        "for i in range(T):\n",
        "    line = input().split()\n",
        "    R_lst.append(int(line[0]))\n",
        "    S_lst.append(line[1])\n",
        "\n",
        "for i in range(len(S_lst)):\n",
        "    rst = \"\"\n",
        "    for j in S_lst[i]:\n",
        "        rst += R_lst[i] * j\n",
        "    print(rst)\n"
      ],
      "metadata": {
        "id": "1YumetNYiekO"
      },
      "execution_count": null,
      "outputs": []
    },
    {
      "cell_type": "code",
      "source": [
        "#단어공부\n",
        "\n",
        "usr = input().lower()\n",
        "lst = [0] * 26\n",
        "for i in usr:\n",
        "    lst[ord(i)-97] += 1\n",
        "\n",
        "max_n = max(lst)\n",
        "count = 0\n",
        "for i in lst:\n",
        "    if i == max_n:\n",
        "        count += 1\n",
        "\n",
        "if count >= 2:\n",
        "    print(\"?\")\n",
        "else:\n",
        "    print(chr(lst.index(max_n)+65))\n"
      ],
      "metadata": {
        "id": "dE22NMijihAk"
      },
      "execution_count": null,
      "outputs": []
    },
    {
      "cell_type": "code",
      "source": [
        "#단어의 개수\n",
        "\n",
        "usr = input().lstrip()\n",
        "print(len(usr.split()))\n"
      ],
      "metadata": {
        "id": "4NVZEwisij1q"
      },
      "execution_count": null,
      "outputs": []
    },
    {
      "cell_type": "code",
      "source": [
        "#상수\n",
        "usr = input().split()\n",
        "a = usr[0]\n",
        "b = usr[1]\n",
        "if int(a[::-1]) > int(b[::-1]):\n",
        "    print(int(a[::-1]))\n",
        "else:\n",
        "    print(int(b[::-1]))"
      ],
      "metadata": {
        "id": "rA2qgIkXimbB"
      },
      "execution_count": null,
      "outputs": []
    },
    {
      "cell_type": "code",
      "source": [],
      "metadata": {
        "id": "jhZY9oyDipJb"
      },
      "execution_count": null,
      "outputs": []
    }
  ]
}
