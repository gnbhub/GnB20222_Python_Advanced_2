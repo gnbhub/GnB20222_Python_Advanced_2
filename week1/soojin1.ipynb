{
  "nbformat": 4,
  "nbformat_minor": 0,
  "metadata": {
    "colab": {
      "provenance": [],
      "authorship_tag": "ABX9TyO/uVW/ph1V4EOPk27g5wKd",
      "include_colab_link": true
    },
    "kernelspec": {
      "name": "python3",
      "display_name": "Python 3"
    },
    "language_info": {
      "name": "python"
    }
  },
  "cells": [
    {
      "cell_type": "markdown",
      "metadata": {
        "id": "view-in-github",
        "colab_type": "text"
      },
      "source": [
        "<a href=\"https://colab.research.google.com/github/gnbhub/GnB20222_Python_Advanced_2/blob/master/week1/soojin1.ipynb\" target=\"_parent\"><img src=\"https://colab.research.google.com/assets/colab-badge.svg\" alt=\"Open In Colab\"/></a>"
      ]
    },
    {
      "cell_type": "code",
      "execution_count": 3,
      "metadata": {
        "id": "ruQ4MZYj0NnM"
      },
      "outputs": [],
      "source": [
        "# 5-1\n",
        "def solve(a):\n",
        "    ans = 0\n",
        "    for i in a:\n",
        "        ans += i\n",
        "    return ans"
      ]
    },
    {
      "cell_type": "code",
      "source": [
        "# 5-3\n",
        "def hansu(a):\n",
        "    cnt=0\n",
        "    for i in range(1,a+1):\n",
        "        l=list(map(int,str(i)))\n",
        "        if (i<100):\n",
        "            cnt+=1\n",
        "        elif (l[2]-l[1]==l[1]-l[0]):\n",
        "            cnt+=1\n",
        "    return cnt\n",
        "a=int(input())\n",
        "ans=hansu(a)\n",
        "print(ans)"
      ],
      "metadata": {
        "colab": {
          "base_uri": "https://localhost:8080/"
        },
        "id": "G_zzWM4h1ke5",
        "outputId": "c1efa699-0042-4acf-f4e2-94ca60d8d514"
      },
      "execution_count": 4,
      "outputs": [
        {
          "output_type": "stream",
          "name": "stdout",
          "text": [
            "123\n",
            "101\n"
          ]
        }
      ]
    },
    {
      "cell_type": "code",
      "source": [
        "# 6-1\n",
        "a=input()\n",
        "print(ord(a))"
      ],
      "metadata": {
        "colab": {
          "base_uri": "https://localhost:8080/"
        },
        "id": "MyFFqlK9140U",
        "outputId": "101b8d45-6511-4462-c56d-99fb1e0fc59a"
      },
      "execution_count": 5,
      "outputs": [
        {
          "output_type": "stream",
          "name": "stdout",
          "text": [
            "4\n",
            "52\n"
          ]
        }
      ]
    },
    {
      "cell_type": "code",
      "source": [
        "#6-2\n",
        "a=int(input())\n",
        "num=list(input())\n",
        "sum=0\n",
        "for i in range(a):\n",
        "    sum+=int(num[i])\n",
        "print(sum)"
      ],
      "metadata": {
        "colab": {
          "base_uri": "https://localhost:8080/"
        },
        "id": "tA6Qj3D_16vN",
        "outputId": "61f776af-2eef-4a53-e0c1-3df5e49a10de"
      },
      "execution_count": 6,
      "outputs": [
        {
          "output_type": "stream",
          "name": "stdout",
          "text": [
            "5\n",
            "54321\n",
            "15\n"
          ]
        }
      ]
    }
  ]
}