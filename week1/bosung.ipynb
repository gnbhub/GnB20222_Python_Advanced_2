{
  "nbformat": 4,
  "nbformat_minor": 0,
  "metadata": {
    "colab": {
      "provenance": [],
      "collapsed_sections": [],
      "authorship_tag": "ABX9TyOWexaaqrQaabt9OLh9E6kC",
      "include_colab_link": true
    },
    "kernelspec": {
      "name": "python3",
      "display_name": "Python 3"
    },
    "language_info": {
      "name": "python"
    }
  },
  "cells": [
    {
      "cell_type": "markdown",
      "metadata": {
        "id": "view-in-github",
        "colab_type": "text"
      },
      "source": [
        "<a href=\"https://colab.research.google.com/github/gnbhub/GnB20222_Python_Advanced_2/blob/master/week1/bosung.ipynb\" target=\"_parent\"><img src=\"https://colab.research.google.com/assets/colab-badge.svg\" alt=\"Open In Colab\"/></a>"
      ]
    },
    {
      "cell_type": "code",
      "execution_count": null,
      "metadata": {
        "id": "vrL2hIVABj6S"
      },
      "outputs": [],
      "source": [
        "#1\n",
        "def solve(a: list) -> int:\n",
        "    ans = 0\n",
        "    for k in a:\n",
        "        ans = ans + k\n",
        "    return sum\n"
      ]
    },
    {
      "cell_type": "code",
      "source": [
        "#2\n",
        "def d(n):\n",
        "    dn = n\n",
        "    while True:\n",
        "        dn = dn + n%10\n",
        "        n = n-n%10\n",
        "        n = n/10\n",
        "        if n == 0:\n",
        "            break\n",
        "    return round(dn)\n",
        "\n",
        "a = list(range(1, 10001))\n",
        "\n",
        "for i in a:\n",
        "    k = i\n",
        "    while k<=10000:\n",
        "        k = d(k)\n",
        "        if k in a:\n",
        "            a.remove(k)\n",
        "\n",
        "\n",
        "for k in a:\n",
        "    print(k)"
      ],
      "metadata": {
        "id": "iyiAFkFmCVgr"
      },
      "execution_count": null,
      "outputs": []
    },
    {
      "cell_type": "code",
      "source": [
        "#3\n",
        "import math\n",
        "\n",
        "def sep(x):\n",
        "    p = x%10\n",
        "    x = math.trunc(x/10)\n",
        "    q = x%10\n",
        "    x = math.trunc(x/10)\n",
        "    r = x%10\n",
        "    return p, q, r\n",
        "\n",
        "x = int(input())\n",
        "ans = 0\n",
        "if x<100:\n",
        "    ans = x\n",
        "    print(ans)\n",
        "elif 100<=x and x<1000:\n",
        "    ans = 99\n",
        "    for i in range(100, x+1):\n",
        "        p, q, r = sep(i)\n",
        "        if (p+r)/2 == q:\n",
        "            ans = ans + 1\n",
        "    print(ans)\n",
        "else:\n",
        "    print(144)\n",
        "    \n",
        "\n"
      ],
      "metadata": {
        "id": "igsa_19bCCq0"
      },
      "execution_count": 3,
      "outputs": []
    },
    {
      "cell_type": "code",
      "source": [
        "#4\n",
        "a = input()\n",
        "print(ord(a))\n"
      ],
      "metadata": {
        "id": "8O8d3k85CEUX"
      },
      "execution_count": null,
      "outputs": []
    },
    {
      "cell_type": "code",
      "source": [
        "#5\n",
        "n = int(input())\n",
        "a = input()\n",
        "k = list(map(int, a))\n",
        "sum = 0\n",
        "for i in k:\n",
        "    sum = sum + i\n",
        "print(sum)"
      ],
      "metadata": {
        "id": "y5wNP20dCGSx"
      },
      "execution_count": null,
      "outputs": []
    }
  ]
}