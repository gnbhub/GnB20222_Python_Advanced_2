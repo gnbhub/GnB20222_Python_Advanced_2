{
  "nbformat": 4,
  "nbformat_minor": 0,
  "metadata": {
    "colab": {
      "provenance": [],
      "authorship_tag": "ABX9TyNmVmry7yltdUhB5dZ603mS",
      "include_colab_link": true
    },
    "kernelspec": {
      "name": "python3",
      "display_name": "Python 3"
    },
    "language_info": {
      "name": "python"
    }
  },
  "cells": [
    {
      "cell_type": "markdown",
      "metadata": {
        "id": "view-in-github",
        "colab_type": "text"
      },
      "source": [
        "<a href=\"https://colab.research.google.com/github/gnbhub/GnB20222_Python_Advanced_2/blob/master/week4/hyeongy.ipynb\" target=\"_parent\"><img src=\"https://colab.research.google.com/assets/colab-badge.svg\" alt=\"Open In Colab\"/></a>"
      ]
    },
    {
      "cell_type": "code",
      "execution_count": null,
      "metadata": {
        "id": "oExwEjtvE5EH"
      },
      "outputs": [],
      "source": [
        "a,b=map(int,input().split())\n",
        "print(a+b)\n",
        "\n"
      ]
    },
    {
      "cell_type": "code",
      "source": [
        "def prime(n):\n",
        "    cnt=0\n",
        "    for i in range(1,n+1):\n",
        "        if n%i==0:\n",
        "            cnt+=1\n",
        "\n",
        "    if cnt==2:\n",
        "        return 1\n",
        "    else:\n",
        "        return 0\n",
        "\n",
        "N=int(input())\n",
        "a=[]\n",
        "a=input().split()\n",
        "\n",
        "b=0\n",
        "for i in a:\n",
        "    i=int(i)\n",
        "    b+=prime(i)\n",
        "\n",
        "print(b)\n"
      ],
      "metadata": {
        "id": "Qz4aH6N8E6ss"
      },
      "execution_count": null,
      "outputs": []
    },
    {
      "cell_type": "code",
      "source": [
        "N=int(input())\n",
        "M=int(input())\n",
        "\n",
        "def prime(n):\n",
        "    cnt=0\n",
        "    for i in range(1,n+1):\n",
        "        if n%i==0:\n",
        "            cnt+=1\n",
        "\n",
        "    if cnt==2:\n",
        "        return n\n",
        "    else:\n",
        "        return 0\n",
        "a=[]\n",
        "for i in range(N,M+1):\n",
        "    if prime(i)!=0:\n",
        "        a.append(prime(i))\n",
        "\n",
        "if sum(a)==0:\n",
        "    print(-1)\n",
        "\n",
        "else:\n",
        "    print(sum(a))\n",
        "    print(min(a))"
      ],
      "metadata": {
        "id": "V0588uT1E-Jv"
      },
      "execution_count": null,
      "outputs": []
    },
    {
      "cell_type": "code",
      "source": [
        "n = int(input())\n",
        "\n",
        "i = 2\n",
        "while(1):\n",
        "  if n==1: break\n",
        "  if n%i==0:\n",
        "    print(i)\n",
        "    n = n/i\n",
        "  else: i+=1"
      ],
      "metadata": {
        "id": "qIKRPIPbFAX_"
      },
      "execution_count": null,
      "outputs": []
    },
    {
      "cell_type": "code",
      "source": [
        "import math\n",
        "\n",
        "def prime(n):\n",
        "    cnt=0\n",
        "    for i in range(1,math.floor(n**0.5)+1):\n",
        "        if n%i==0:\n",
        "            cnt+=1\n",
        "\n",
        "    if cnt==1:\n",
        "        return n\n",
        "    else:\n",
        "        return 0\n",
        "N,M=map(int,input().split())\n",
        "\n",
        "\n",
        "for i in range(N,M+1):\n",
        "    if prime(i)!=0:\n",
        "        print(prime(i))"
      ],
      "metadata": {
        "id": "1QTO9ZmwFDaC"
      },
      "execution_count": null,
      "outputs": []
    },
    {
      "cell_type": "code",
      "source": [],
      "metadata": {
        "id": "AdR1_DkyFFHK"
      },
      "execution_count": null,
      "outputs": []
    }
  ]
}