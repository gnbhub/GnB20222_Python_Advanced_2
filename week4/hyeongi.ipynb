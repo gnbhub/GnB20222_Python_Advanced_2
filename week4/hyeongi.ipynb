{
  "nbformat": 4,
  "nbformat_minor": 0,
  "metadata": {
    "colab": {
      "provenance": [],
      "authorship_tag": "ABX9TyNWbYthH8HsmTViFJ77OQUl",
      "include_colab_link": true
    },
    "kernelspec": {
      "name": "python3",
      "display_name": "Python 3"
    },
    "language_info": {
      "name": "python"
    }
  },
  "cells": [
    {
      "cell_type": "markdown",
      "metadata": {
        "id": "view-in-github",
        "colab_type": "text"
      },
      "source": [
        "<a href=\"https://colab.research.google.com/github/gnbhub/GnB20222_Python_Advanced_2/blob/master/week4/hyeongi.ipynb\" target=\"_parent\"><img src=\"https://colab.research.google.com/assets/colab-badge.svg\" alt=\"Open In Colab\"/></a>"
      ]
    },
    {
      "cell_type": "code",
      "execution_count": null,
      "metadata": {
        "id": "0V1SOMoqwBc4"
      },
      "outputs": [],
      "source": [
        "N = int(input())\n",
        "sum, num = 0, 0\n",
        "\n",
        "for i in range(1, 1000000000):\n",
        "  if sum < N:\n",
        "    sum += i\n",
        "  else:\n",
        "    result = i\n",
        "    break\n",
        "\n",
        "for i in range(1, result-1):\n",
        "  num += i\n",
        "index = N - num\n",
        "\n",
        "if result % 2 != 0:\n",
        "  print('{}/{}'.format(index, result - index))\n",
        "\n",
        "else:\n",
        "  print('{}/{}'.format(result - index, index))\n",
        "  "
      ]
    },
    {
      "cell_type": "code",
      "source": [
        "import math\n",
        "a,b,v=map(int,input().split())\n",
        "x=math.ceil((v-a)/(a-b))+1\n",
        "print(x)\n"
      ],
      "metadata": {
        "id": "JrGi81D6xRaG"
      },
      "execution_count": null,
      "outputs": []
    },
    {
      "cell_type": "code",
      "source": [
        "a=int(input())\n",
        "g=list()\n",
        "for i in range(a):\n",
        "    b,c,d=map(int,input().split())\n",
        "    e,f=divmod(d,b)\n",
        "    if f==0:\n",
        "        f=b\n",
        "        e=e-1\n",
        "    g.append(f*100+e+1)\n",
        "for i in range(len(g)):\n",
        "    print(g[i])"
      ],
      "metadata": {
        "id": "jY_rmGLoxX4o"
      },
      "execution_count": null,
      "outputs": []
    },
    {
      "cell_type": "code",
      "source": [
        "for t in range(int(input())):\n",
        "    k= int(input().rstrip())\n",
        "    n = int(input().rstrip())\n",
        "    arr = [num for num in range(1, n+1)]\n",
        "    for i in range(k):\n",
        "        new = []\n",
        "        for j in range(n):\n",
        "            new.append(sum(arr[:j+1]))\n",
        "        arr= new.copy()\n",
        "    print(arr[-1])"
      ],
      "metadata": {
        "id": "SrNV_yZixcHp"
      },
      "execution_count": null,
      "outputs": []
    },
    {
      "cell_type": "code",
      "source": [
        "a=int(input())\n",
        "b=list()\n",
        "for i in range(a):\n",
        "    for j in range(a):\n",
        "        if 3*i+5*j==a:\n",
        "            b.append(i+j)\n",
        "if len(b)==0:\n",
        "    b.append(-1)\n",
        "print(min(b))"
      ],
      "metadata": {
        "id": "mSmlTJ91xfbj"
      },
      "execution_count": null,
      "outputs": []
    },
    {
      "cell_type": "code",
      "source": [],
      "metadata": {
        "id": "S2Pr1blbxhlQ"
      },
      "execution_count": null,
      "outputs": []
    }
  ]
}