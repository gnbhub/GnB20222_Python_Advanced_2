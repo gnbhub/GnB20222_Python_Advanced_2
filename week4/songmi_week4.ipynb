{
  "nbformat": 4,
  "nbformat_minor": 0,
  "metadata": {
    "colab": {
      "provenance": [],
      "authorship_tag": "ABX9TyMpme4rWmKkw6YkBhWfsyLp",
      "include_colab_link": true
    },
    "kernelspec": {
      "name": "python3",
      "display_name": "Python 3"
    },
    "language_info": {
      "name": "python"
    }
  },
  "cells": [
    {
      "cell_type": "markdown",
      "metadata": {
        "id": "view-in-github",
        "colab_type": "text"
      },
      "source": [
        "<a href=\"https://colab.research.google.com/github/gnbhub/GnB20222_Python_Advanced_2/blob/master/week4/songmi_week4.ipynb\" target=\"_parent\"><img src=\"https://colab.research.google.com/assets/colab-badge.svg\" alt=\"Open In Colab\"/></a>"
      ]
    },
    {
      "cell_type": "code",
      "execution_count": null,
      "metadata": {
        "id": "uqpOACnUMFRG"
      },
      "outputs": [],
      "source": [
        "# 7-3 분수 찾기\n",
        "n = int(input())\n",
        "line = 1\n",
        "\n",
        "while n > line:\n",
        "    n -= line\n",
        "    line += 1\n",
        "\n",
        "if line % 2 == 0:\n",
        "    up = n\n",
        "    down = line - n + 1\n",
        "else:\n",
        "    up = line - n + 1\n",
        "    down = n\n",
        "\n",
        "print(up,'/',down, sep=\"\")"
      ]
    },
    {
      "cell_type": "code",
      "source": [
        "# 7-4 달팽이\n",
        "day, night, height = map(int, input().split())\n",
        "\n",
        "term = (height - day) // (day - night)\n",
        "while True:\n",
        "    now_height = (day - night) * term\n",
        "    if now_height + day >= height:\n",
        "        print(term + 1)\n",
        "        break\n",
        "    else:\n",
        "        term += 1"
      ],
      "metadata": {
        "id": "x8PxpqyUNIvz"
      },
      "execution_count": null,
      "outputs": []
    },
    {
      "cell_type": "code",
      "source": [
        "# 7-5 ACM 호텔\n",
        "case = int(input())\n",
        "\n",
        "for i in range(case):\n",
        "    h, w, n = map(int, input().split())\n",
        "\n",
        "    if n % h == 0:\n",
        "        num = n // h\n",
        "        floor = h\n",
        "    else:\n",
        "        num = n // h + 1\n",
        "        floor = n % h\n",
        "\n",
        "    print(f'{floor * 100 + num}')"
      ],
      "metadata": {
        "id": "CfONRsQwNI__"
      },
      "execution_count": null,
      "outputs": []
    },
    {
      "cell_type": "code",
      "source": [
        "# 7-6 부녀회장\n",
        "test_case = int(input())\n",
        "people_dict = {}\n",
        "\n",
        "\n",
        "def how_many_people(k, n):\n",
        "    # base case\n",
        "    if (k, n) in people_dict.keys():\n",
        "        return people_dict[(k, n)]\n",
        "\n",
        "    # recursive case\n",
        "    people = 0\n",
        "    for i in range(1, n + 1):\n",
        "        people += how_many_people(k - 1, i)\n",
        "    people_dict[(k, n)] = people\n",
        "\n",
        "    return people_dict[(k, n)]\n",
        "\n",
        "\n",
        "for i in range(test_case):\n",
        "    k = int(input())\n",
        "    n = int(input())\n",
        "\n",
        "    for i in range(1, n + 1):\n",
        "        people_dict[(0, i)] = i\n",
        "\n",
        "    print(how_many_people(k, n))"
      ],
      "metadata": {
        "id": "BkUMUhMcNJLI"
      },
      "execution_count": null,
      "outputs": []
    },
    {
      "cell_type": "code",
      "source": [
        "# 7-7 설탕 배달\n",
        "def min_bag(n):\n",
        "    five_k = n // 5\n",
        "    for i in range(five_k, -1, -1):\n",
        "        extra = n - 5 * i\n",
        "        if extra % 3 == 0:\n",
        "            three_k = extra // 3\n",
        "            return i + three_k\n",
        "\n",
        "n = int(input())\n",
        "\n",
        "answer = min_bag(n)\n",
        "if answer == None:\n",
        "    print('-1')\n",
        "else:\n",
        "    print(answer)"
      ],
      "metadata": {
        "id": "BdFOri48NiqV"
      },
      "execution_count": null,
      "outputs": []
    }
  ]
}