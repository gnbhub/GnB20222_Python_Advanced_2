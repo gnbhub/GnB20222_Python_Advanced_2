{
  "nbformat": 4,
  "nbformat_minor": 0,
  "metadata": {
    "colab": {
      "provenance": [],
      "collapsed_sections": [],
      "authorship_tag": "ABX9TyPdaGpbxJpbIu3W/ToA2RYe",
      "include_colab_link": true
    },
    "kernelspec": {
      "name": "python3",
      "display_name": "Python 3"
    },
    "language_info": {
      "name": "python"
    }
  },
  "cells": [
    {
      "cell_type": "markdown",
      "metadata": {
        "id": "view-in-github",
        "colab_type": "text"
      },
      "source": [
        "<a href=\"https://colab.research.google.com/github/gnbhub/GnB20222_Python_Advanced_2/blob/master/week3/songmi.ipynb\" target=\"_parent\"><img src=\"https://colab.research.google.com/assets/colab-badge.svg\" alt=\"Open In Colab\"/></a>"
      ]
    },
    {
      "cell_type": "code",
      "execution_count": null,
      "metadata": {
        "id": "AxMcJypAEQ-B"
      },
      "outputs": [],
      "source": [
        "# 다이얼\n",
        "alp_list = ['ABC', 'DEF', 'GHI', 'JKL', 'MNO', 'PQRS', 'TUV', 'WXYZ']\n",
        "\n",
        "word = input()\n",
        "time = 0\n",
        "\n",
        "for i in range(len(word)):\n",
        "    for j in alp_list:\n",
        "        if word[i] in j:\n",
        "            time += alp_list.index(j) + 3\n",
        "\n",
        "print(time)"
      ]
    },
    {
      "cell_type": "code",
      "source": [
        "# 크로아티아 알파벳\n",
        "cro_list = ['c=', 'c-', 'dz=', 'd-', 'lj', 'nj', 's=', 'z=']\n",
        "\n",
        "input_word = input()\n",
        "\n",
        "for i in cro_list:\n",
        "    input_word = input_word.replace(i, '0')\n",
        "\n",
        "print(len(input_word))"
      ],
      "metadata": {
        "id": "10JspNULEbeg"
      },
      "execution_count": null,
      "outputs": []
    },
    {
      "cell_type": "code",
      "source": [
        "# 그룹 단어 체커\n",
        "word_count = int(input())\n",
        "    \n",
        "for i in range(word_count):\n",
        "    alp_dict = {}\n",
        "    input_word = input()\n",
        "    alp_dict[input_word[0]] = True    # 단어의 첫 알파벳을 사전에 넣음\n",
        "    \n",
        "    for index in range(1, len(input_word)):\n",
        "        if input_word[index] == input_word[index - 1]:\n",
        "            continue\n",
        "        if input_word[index] in alp_dict.keys():\n",
        "            word_count -= 1\n",
        "            break\n",
        "        else:\n",
        "            alp_dict[input_word[index]] = True\n",
        "\n",
        "print(word_count)"
      ],
      "metadata": {
        "id": "5Ag0vDrgEyqe"
      },
      "execution_count": null,
      "outputs": []
    },
    {
      "cell_type": "code",
      "source": [
        "# 손익분기점\n",
        "FIX_COST, change_cost, price = map(int, input().split())\n",
        "\n",
        "if change_cost >= price:\n",
        "    print('-1')\n",
        "\n",
        "else:\n",
        "    term = FIX_COST // (price - change_cost)\n",
        "    print(term + 1)"
      ],
      "metadata": {
        "id": "llXFE7TAFYhO"
      },
      "execution_count": null,
      "outputs": []
    },
    {
      "cell_type": "code",
      "source": [
        "# 벌집\n",
        "number = int(input())\n",
        "\n",
        "i = 0\n",
        "scope = 1\n",
        "while True:\n",
        "    scope += 6 * i\n",
        "    if number > scope:\n",
        "        i += 1\n",
        "    else:\n",
        "        print(i + 1)\n",
        "        break"
      ],
      "metadata": {
        "id": "Zl2oXSsKFp7_"
      },
      "execution_count": null,
      "outputs": []
    }
  ]
}