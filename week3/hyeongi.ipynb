{
  "nbformat": 4,
  "nbformat_minor": 0,
  "metadata": {
    "colab": {
      "provenance": [],
      "authorship_tag": "ABX9TyM+7wY+LKBXz1/dJI8qoNJP",
      "include_colab_link": true
    },
    "kernelspec": {
      "name": "python3",
      "display_name": "Python 3"
    },
    "language_info": {
      "name": "python"
    }
  },
  "cells": [
    {
      "cell_type": "markdown",
      "metadata": {
        "id": "view-in-github",
        "colab_type": "text"
      },
      "source": [
        "<a href=\"https://colab.research.google.com/github/gnbhub/GnB20222_Python_Advanced_2/blob/master/week3/hyeongi.ipynb\" target=\"_parent\"><img src=\"https://colab.research.google.com/assets/colab-badge.svg\" alt=\"Open In Colab\"/></a>"
      ]
    },
    {
      "cell_type": "code",
      "execution_count": null,
      "metadata": {
        "id": "MpQ8IFOrdPC5"
      },
      "outputs": [],
      "source": [
        "num=list(input())\n",
        "a=['A','B','C']\n",
        "b=['D','E','F']\n",
        "c=['G','H','I']\n",
        "d=['J','K','L']\n",
        "e=['M','N','O']\n",
        "f=['P','Q','R','S']\n",
        "g=['T','U','V']\n",
        "h=['W','X','Y','Z']\n",
        "s=0\n",
        "for i in range(len(num)):\n",
        "    q=2\n",
        "    for j in (a,b,c,d,e,f,g,h):\n",
        "        q+=1\n",
        "        if num[i] in j:\n",
        "            s+=q\n",
        "print(s)\n",
        "            \n",
        "\n",
        "\n",
        "\n",
        "\n"
      ]
    },
    {
      "cell_type": "code",
      "source": [
        "word = input()\n",
        "word = word + '  '\n",
        "count = 0 \n",
        "i = 0\n",
        "\n",
        "while i<len(word)-2:\n",
        "                                                 \n",
        "    if word[i]=='c' and word[i+1]=='=':            \n",
        "        count = count+1\n",
        "        i = i+2\n",
        "    elif word[i]=='c' and word[i+1]=='-':               \n",
        "        count = count+1\n",
        "        i = i+2\n",
        "    elif word[i]=='d' and word[i+1]=='z' and word[i+2]=='=':\n",
        "        count = count+1\n",
        "        i = i+3\n",
        "    elif word[i]=='d' and word[i+1]=='-':               \n",
        "        count = count+1\n",
        "        i = i+2\n",
        "    elif  word[i]=='l' and word[i+1]=='j':               \n",
        "        count = count+1\n",
        "        i = i+2\n",
        "    elif  word[i]=='n' and word[i+1]=='j':               \n",
        "        count = count+1\n",
        "        i = i+2\n",
        "    elif  word[i]=='s' and word[i+1]=='=':               \n",
        "        count = count+1\n",
        "        i = i+2\n",
        "    elif  word[i]=='z' and word[i+1]=='=':               \n",
        "        count = count+1\n",
        "        i = i+2\n",
        "    else:\n",
        "        count = count+1\n",
        "        i = i+1\n",
        "    \n",
        "print(count)\n",
        "\n"
      ],
      "metadata": {
        "id": "M0taVbEIdq46"
      },
      "execution_count": null,
      "outputs": []
    },
    {
      "cell_type": "code",
      "source": [
        "N = int(input())\n",
        "\n",
        "for i in range (0,N):                  \n",
        "    sen = input()\n",
        "    check=[]\n",
        "    for i in range(0,len(sen)):\n",
        "      check.append(sen[i])\n",
        "      if sen[i] in check[:i-1]:\n",
        "          if sen[i] != check[i-1]:\n",
        "            N=N-1\n",
        "            break\n",
        "\n",
        "print(N)\n"
      ],
      "metadata": {
        "id": "aLZlSuyKdv03"
      },
      "execution_count": null,
      "outputs": []
    },
    {
      "cell_type": "code",
      "source": [
        "a,b,c=map(int, input().split())\n",
        "\n",
        "\n",
        "if b<c:\n",
        "    x=int(a/(c-b))\n",
        "    print(x+1)\n",
        "\n",
        "else:\n",
        "    print(-1)\n"
      ],
      "metadata": {
        "id": "6tH0p5Xxd0iq"
      },
      "execution_count": null,
      "outputs": []
    },
    {
      "cell_type": "code",
      "source": [],
      "metadata": {
        "id": "qReFjrnLd4xO"
      },
      "execution_count": null,
      "outputs": []
    }
  ]
}