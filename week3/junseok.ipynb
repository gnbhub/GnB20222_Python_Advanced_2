{
  "nbformat": 4,
  "nbformat_minor": 0,
  "metadata": {
    "colab": {
      "provenance": [],
      "authorship_tag": "ABX9TyNqgn9KQBuNbuoFc8LWvwKl",
      "include_colab_link": true
    },
    "kernelspec": {
      "name": "python3",
      "display_name": "Python 3"
    },
    "language_info": {
      "name": "python"
    }
  },
  "cells": [
    {
      "cell_type": "markdown",
      "metadata": {
        "id": "view-in-github",
        "colab_type": "text"
      },
      "source": [
        "<a href=\"https://colab.research.google.com/github/gnbhub/GnB20222_Python_Advanced_2/blob/master/week3/junseok.ipynb\" target=\"_parent\"><img src=\"https://colab.research.google.com/assets/colab-badge.svg\" alt=\"Open In Colab\"/></a>"
      ]
    },
    {
      "cell_type": "code",
      "execution_count": null,
      "metadata": {
        "id": "vMOm_ZcJ3X9z"
      },
      "outputs": [],
      "source": [
        "#7-8 다이얼\n",
        "\n",
        "lst = [2,2,2,3,3,3,4,4,4,5,5,5,6,6,6,7,7,7,7,8,8,8,9,9,9,9]\n",
        "usr = input()\n",
        "rst = 0\n",
        "for i in usr:\n",
        "    rst += 1\n",
        "    rst += lst[ord(i)-65]\n",
        "print(rst)"
      ]
    },
    {
      "cell_type": "code",
      "source": [
        "#7-9 크로아티아 알파벳\n",
        "\n",
        "usr = input()\n",
        "rst = len(usr)\n",
        "lst = [\"c=\", \"c-\", \"dz=\", \"d-\", \"lj\", \"nj\", \"s=\", \"z=\"]\n",
        "for i in lst:\n",
        "    if i == \"dz=\":\n",
        "        rst -= 2*usr.count(i)\n",
        "    elif i== \"z=\":\n",
        "        rst = rst- usr.count(i)+usr.count(\"dz=\")\n",
        "    else:\n",
        "        rst -= usr.count(i) \n",
        "print(rst)"
      ],
      "metadata": {
        "id": "2DS_1yhQ3bDp"
      },
      "execution_count": null,
      "outputs": []
    },
    {
      "cell_type": "code",
      "source": [
        "#7-10 그룹 단어 체커\n",
        "\n",
        "nmb = int(input())\n",
        "rst = 0\n",
        "for i in range(nmb):\n",
        "    a = input()\n",
        "    lst = list(a)\n",
        "    rst_lst = [a[0]]\n",
        "    for i in range(len(lst)-1):\n",
        "        if lst[i] != lst[i+1]:\n",
        "            rst_lst.append(lst[i+1])\n",
        "    cnt = 0\n",
        "    for i in rst_lst:\n",
        "        if rst_lst.count(i) == 1:\n",
        "            cnt += 1\n",
        "        if cnt == len(rst_lst):\n",
        "            rst += 1\n",
        "print(rst)\n"
      ],
      "metadata": {
        "id": "rz9yVmEA3fcJ"
      },
      "execution_count": null,
      "outputs": []
    },
    {
      "cell_type": "code",
      "source": [
        "#8-1 손익분기점\n",
        "\n",
        "a = input().split()\n",
        "lst = []\n",
        "for i in a:\n",
        "    lst.append(int(i))\n",
        "if lst[2] != lst[1]:\n",
        "    n = lst[0]/(lst[2]-lst[1])\n",
        "    if n < 0:\n",
        "        print(\"-1\")\n",
        "    else:\n",
        "        print(int(n)+1)\n",
        "else:\n",
        "    print(\"-1\")\n"
      ],
      "metadata": {
        "id": "oQGRsW8-3jJR"
      },
      "execution_count": null,
      "outputs": []
    },
    {
      "cell_type": "code",
      "source": [
        "#8-2 벌집\n",
        "\n",
        "usr = int(input())\n",
        "ans = 1\n",
        "for i in range(1,usr+1):\n",
        "    ans += 6*(i-1)\n",
        "    if ans >= usr:\n",
        "        print(i)\n",
        "        break"
      ],
      "metadata": {
        "id": "xwLu4fzf3lyj"
      },
      "execution_count": null,
      "outputs": []
    },
    {
      "cell_type": "code",
      "source": [],
      "metadata": {
        "id": "KJI-4nlq3qv-"
      },
      "execution_count": null,
      "outputs": []
    }
  ]
}