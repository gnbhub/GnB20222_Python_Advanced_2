{
  "nbformat": 4,
  "nbformat_minor": 0,
  "metadata": {
    "colab": {
      "provenance": [],
      "collapsed_sections": [],
      "authorship_tag": "ABX9TyOanR2E6peAtWmjg6K1gEfc",
      "include_colab_link": true
    },
    "kernelspec": {
      "name": "python3",
      "display_name": "Python 3"
    },
    "language_info": {
      "name": "python"
    }
  },
  "cells": [
    {
      "cell_type": "markdown",
      "metadata": {
        "id": "view-in-github",
        "colab_type": "text"
      },
      "source": [
        "<a href=\"https://colab.research.google.com/github/gnbhub/GnB20222_Python_Advanced_2/blob/master/week3/bosung.ipynb\" target=\"_parent\"><img src=\"https://colab.research.google.com/assets/colab-badge.svg\" alt=\"Open In Colab\"/></a>"
      ]
    },
    {
      "cell_type": "code",
      "execution_count": null,
      "metadata": {
        "id": "98voFk87Fa5d"
      },
      "outputs": [],
      "source": [
        "#6-8\n",
        "def ston(str, i):\n",
        "    if 'A' <= str[i] <= 'C':\n",
        "        return 3\n",
        "    elif 'D' <= str[i] <= 'F':\n",
        "        return 4\n",
        "    elif 'G' <= str[i] <= 'I':\n",
        "        return 5\n",
        "    elif 'J' <= str[i] <= 'L':\n",
        "        return 6\n",
        "    elif 'M' <= str[i] <= 'O':\n",
        "        return 7\n",
        "    elif 'P' <= str[i] <= 'S':\n",
        "        return 8\n",
        "    elif 'T' <= str[i] <= 'V':\n",
        "        return 9\n",
        "    elif 'W' <= str[i] <= 'Z':\n",
        "        return 10\n",
        "    \n",
        "\n",
        "str = input()\n",
        "l = len(str)\n",
        "num = 0\n",
        "for i in range(l):\n",
        "    num  += ston(str, i)\n",
        "print(num)\n",
        "\n"
      ]
    },
    {
      "cell_type": "code",
      "source": [
        "#6-9\n",
        "\n",
        "str = input()\n",
        "l = len(str)\n",
        "length = 0\n",
        "i = 0\n",
        "while True:\n",
        "    if str[i] == 'c':\n",
        "        if i+1 < l:\n",
        "            if str[i+1] == '=' or str[i+1] == '-':\n",
        "                i += 2\n",
        "                length += 1  \n",
        "            else:\n",
        "                i += 1\n",
        "                length += 1\n",
        "        else:\n",
        "            i += 1\n",
        "            length += 1\n",
        "    elif str[i] == 'd':\n",
        "        if i+1 < l:\n",
        "            if str[i+1] == 'z':\n",
        "                if i+2 < l:\n",
        "                    if str[i+2] == '=':\n",
        "                        i += 3\n",
        "                        length += 1\n",
        "                    else:\n",
        "                        i += 1\n",
        "                        length += 1\n",
        "                else:\n",
        "                    i += 1\n",
        "                    length += 1\n",
        "            elif str[i+1] == '-':\n",
        "                i += 2\n",
        "                length += 1\n",
        "            else:\n",
        "                i += 1\n",
        "                length += 1\n",
        "        else:\n",
        "            i += 1\n",
        "            length += 1\n",
        "    elif str[i] == 'l':\n",
        "        if i+1 < l:\n",
        "            if str[i+1] == 'j':\n",
        "                i += 2\n",
        "                length += 1\n",
        "            else:\n",
        "                i += 1\n",
        "                length += 1\n",
        "        else:\n",
        "            i += 1\n",
        "            length += 1\n",
        "\n",
        "    elif str[i] == 'n':\n",
        "        if i+1 < l:\n",
        "            if str[i+1] == 'j':\n",
        "                i += 2\n",
        "                length += 1\n",
        "            else:\n",
        "                i += 1\n",
        "                length += 1\n",
        "        else:\n",
        "            i += 1\n",
        "            length += 1\n",
        "\n",
        "    elif str[i] == 's':\n",
        "        if i+1 < l:\n",
        "            if str[i+1] == '=':\n",
        "                i += 2\n",
        "                length += 1\n",
        "            else:\n",
        "                i += 1\n",
        "                length += 1\n",
        "        else:\n",
        "            i += 1\n",
        "            length += 1\n",
        "    elif str[i] == 'z':\n",
        "        if i+1 < l:\n",
        "            if str[i+1] == '=':\n",
        "                i += 2\n",
        "                length += 1\n",
        "            else:\n",
        "                i += 1\n",
        "                length += 1\n",
        "        else:\n",
        "            i += 1\n",
        "            length += 1\n",
        "\n",
        "    else:\n",
        "        length += 1\n",
        "        i = i+1\n",
        "    if i >= l:\n",
        "        break\n",
        "\n",
        "print(length)"
      ],
      "metadata": {
        "id": "PKtccV6vFdl1"
      },
      "execution_count": null,
      "outputs": []
    },
    {
      "cell_type": "code",
      "source": [
        "#6-10\n",
        "n = int(input())\n",
        "num = n\n",
        "flag = 0\n",
        "for i in range(n):\n",
        "    str = input()\n",
        "    l = len(str)\n",
        "    for j in range(l-1):\n",
        "        temp = str[j]\n",
        "        for k in range(j+1, l):\n",
        "            if temp == str[k]:\n",
        "                if temp != str[k-1]:\n",
        "                    num -= 1\n",
        "                    flag = 1\n",
        "                    break\n",
        "        if flag == 1:\n",
        "            flag = 0\n",
        "            break\n",
        "        \n",
        "print(num)"
      ],
      "metadata": {
        "id": "dRrPlvn5FjOO"
      },
      "execution_count": null,
      "outputs": []
    },
    {
      "cell_type": "code",
      "source": [
        "#7-1\n",
        "a, b, c = map(int, input().split())\n",
        "cnt = 0\n",
        "if b>=c:\n",
        "    print(-1)\n",
        "else:\n",
        "    print(a//(c-b)+1)"
      ],
      "metadata": {
        "id": "O3_hxuiwFoD2"
      },
      "execution_count": null,
      "outputs": []
    },
    {
      "cell_type": "code",
      "source": [
        "#7-2\n",
        "tot=1\n",
        "num = int(input())\n",
        "cnt = 0\n",
        "while True:\n",
        "    tot = tot +6*cnt\n",
        "    if tot >= num:\n",
        "        print(cnt+1)\n",
        "        break\n",
        "    cnt += 1"
      ],
      "metadata": {
        "id": "SBgMEwB2FsGn"
      },
      "execution_count": null,
      "outputs": []
    }
  ]
}