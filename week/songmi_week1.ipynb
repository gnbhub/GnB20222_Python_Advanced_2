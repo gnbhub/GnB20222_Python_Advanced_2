{
  "nbformat": 4,
  "nbformat_minor": 0,
  "metadata": {
    "colab": {
      "provenance": [],
      "collapsed_sections": [],
      "authorship_tag": "ABX9TyMUJ4r6XhnzrLmtoebUSmw2",
      "include_colab_link": true
    },
    "kernelspec": {
      "name": "python3",
      "display_name": "Python 3"
    },
    "language_ㅈinfo": {
      "name": "python"
    }
  },
  "cells": [
    {
      "cell_type": "markdown",
      "metadata": {
        "id": "view-in-github",
        "colab_type": "text"
      },
      "source": [
        "<a href=\"https://colab.research.google.com/github/gnbhub/GnB20222_Python_Advanced_2/blob/master/songmi_week1.ipynb\" target=\"_parent\"><img src=\"https://colab.research.google.com/assets/colab-badge.svg\" alt=\"Open In Colab\"/></a>"
      ]
    },
    {
      "cell_type": "code",
      "execution_count": null,
      "metadata": {
        "id": "AyqeNL4AdsNG"
      },
      "outputs": [],
      "source": [
        "# 5 - 1 정수 N개의 합\n",
        "\n",
        "def solve(a):\n",
        "    ans = 0\n",
        "    for i in a:\n",
        "        ans += i\n",
        "        \n",
        "    return ans"
      ]
    },
    {
      "cell_type": "code",
      "source": [
        "# 5 - 2 셀프 넘버\n",
        "\n",
        "def d(n, each_sum=0):\n",
        "    str_n = str(n)\n",
        "    for i in range(len(str_n)):\n",
        "        each_sum += int(str_n[i])\n",
        "    return n + each_sum\n",
        "\n",
        "\n",
        "original_dict = {x for x in range(1, 10001)}\n",
        "\n",
        "for number in range(1, 10001):\n",
        "    ans = d(number)\n",
        "    if ans in original_dict:\n",
        "        original_dict.remove(ans)\n",
        "\n",
        "for num in original_dict:\n",
        "    print(num)"
      ],
      "metadata": {
        "id": "wQgXsea0d_Xi"
      },
      "execution_count": null,
      "outputs": []
    },
    {
      "cell_type": "code",
      "source": [
        "# 5 - 3 한수\n",
        "\n",
        "input_number = int(input())\n",
        "\n",
        "# 범위 내의 숫자 전부 반복문돌기\n",
        "# 각 숫자 자리별로 분석, 1자리 혹은 2자리면 무조건 어펜드\n",
        "# 3자리 이상일 때, 1인덱스 - 0인덱스 값 저장, 다음 연산도 계속 같은 결과이면 어펜드, 아니면 버려\n",
        "hanNumber = []\n",
        "\n",
        "def han(n):\n",
        "    str_n = str(n)\n",
        "    ext = int(str_n[1]) - int(str_n[0])\n",
        "    if int(str_n[2]) - int(str_n[1]) == ext:\n",
        "        return True\n",
        "\n",
        "\n",
        "for num in range(1, input_number + 1):\n",
        "    if num < 100:\n",
        "        hanNumber.append(num)\n",
        "\n",
        "    else:\n",
        "        if han(num):\n",
        "            hanNumber.append(num)\n",
        "\n",
        "print(len(hanNumber))"
      ],
      "metadata": {
        "id": "ifkGXzXGevTZ"
      },
      "execution_count": null,
      "outputs": []
    },
    {
      "cell_type": "code",
      "source": [
        "# 6 - 1 아스키 코드\n",
        "\n",
        "input_value = input()\n",
        "\n",
        "print(ord(input_value))"
      ],
      "metadata": {
        "id": "tzqak80hfVBY"
      },
      "execution_count": null,
      "outputs": []
    },
    {
      "cell_type": "code",
      "source": [
        "# 6 - 2 숫자의 합\n",
        "\n",
        "# 숫자 개수\n",
        "count_num = int(input())\n",
        "# 문자로 숫자 입력\n",
        "comp_num = input()\n",
        "\n",
        "sum = 0\n",
        "for i in range(len(comp_num)):\n",
        "    sum += int(comp_num[i])\n",
        "\n",
        "print(sum)"
      ],
      "metadata": {
        "id": "ybtxSB0ffaWK"
      },
      "execution_count": null,
      "outputs": []
    }
  ]
}
